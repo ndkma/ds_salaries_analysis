{
 "cells": [
  {
   "cell_type": "markdown",
   "id": "23a9dfee",
   "metadata": {},
   "source": [
    "# The Data Science field is experiencing substantial growth. This dataset analysis focuses on providing insights into salary information, job levels, offered salaries, and the salary expectations and growth potential for individuals aspiring to pursue a career in this industry."
   ]
  },
  {
   "cell_type": "markdown",
   "id": "1ea9b311",
   "metadata": {},
   "source": [
    "# ============================================================="
   ]
  },
  {
   "cell_type": "markdown",
   "id": "99a61baa",
   "metadata": {},
   "source": [
    "# We analyze this data to gather insights on the following areas:\n",
    "# === Job titles and positions === \n",
    "### (Q1) What are the most popular jobs in Data Science from 2020 to 2023?\n",
    "### (Q2) How much growth was there for the current most popular 5 jobs in the industry over the last 4 years?\n"
   ]
  },
  {
   "cell_type": "markdown",
   "id": "41b0446b",
   "metadata": {},
   "source": [
    "# === Salary Insights === \n",
    "### (Q3) Which country has the highest earning potential for a person working in this industry in 2023?\n",
    "### (Q4) What are the earnings of full-time employees in the US, at each experience level, for the top 5 jobs in 2023?"
   ]
  },
  {
   "cell_type": "markdown",
   "id": "77dc51a9",
   "metadata": {},
   "source": [
    "# === Outsourcing === \n",
    "### (Q5) Based on 2023 data for the top 5 positions, what is the extent of outsourcing these positions for US-based companies?\n",
    "### (Q6) Based on 2023 data for the top 5 positions, what is the extent of outsourcing these positions for all companies herein?"
   ]
  },
  {
   "cell_type": "markdown",
   "id": "c138c623",
   "metadata": {},
   "source": [
    "# ============================================================="
   ]
  },
  {
   "cell_type": "markdown",
   "id": "2a9214d6",
   "metadata": {},
   "source": [
    "# Import data and libraries"
   ]
  },
  {
   "cell_type": "code",
   "execution_count": 1,
   "id": "1b839bea",
   "metadata": {},
   "outputs": [],
   "source": [
    "import pandas as pd\n",
    "import numpy as np\n",
    "import matplotlib.pyplot as plt\n",
    "import seaborn as sns\n",
    "sns.set()"
   ]
  },
  {
   "cell_type": "code",
   "execution_count": 2,
   "id": "5d529882",
   "metadata": {},
   "outputs": [],
   "source": [
    "raw_data = pd.read_csv('./Latest_Data_Science_Salaries.csv')"
   ]
  },
  {
   "cell_type": "code",
   "execution_count": 3,
   "id": "7d07e6c7",
   "metadata": {},
   "outputs": [
    {
     "data": {
      "text/html": [
       "<div>\n",
       "<style scoped>\n",
       "    .dataframe tbody tr th:only-of-type {\n",
       "        vertical-align: middle;\n",
       "    }\n",
       "\n",
       "    .dataframe tbody tr th {\n",
       "        vertical-align: top;\n",
       "    }\n",
       "\n",
       "    .dataframe thead th {\n",
       "        text-align: right;\n",
       "    }\n",
       "</style>\n",
       "<table border=\"1\" class=\"dataframe\">\n",
       "  <thead>\n",
       "    <tr style=\"text-align: right;\">\n",
       "      <th></th>\n",
       "      <th>Job Title</th>\n",
       "      <th>Employment Type</th>\n",
       "      <th>Experience Level</th>\n",
       "      <th>Expertise Level</th>\n",
       "      <th>Salary</th>\n",
       "      <th>Salary Currency</th>\n",
       "      <th>Company Location</th>\n",
       "      <th>Salary in USD</th>\n",
       "      <th>Employee Residence</th>\n",
       "      <th>Company Size</th>\n",
       "      <th>Year</th>\n",
       "    </tr>\n",
       "  </thead>\n",
       "  <tbody>\n",
       "    <tr>\n",
       "      <th>0</th>\n",
       "      <td>Data Engineer</td>\n",
       "      <td>Full-Time</td>\n",
       "      <td>Senior</td>\n",
       "      <td>Expert</td>\n",
       "      <td>210000</td>\n",
       "      <td>United States Dollar</td>\n",
       "      <td>United States</td>\n",
       "      <td>210000</td>\n",
       "      <td>United States</td>\n",
       "      <td>Medium</td>\n",
       "      <td>2023</td>\n",
       "    </tr>\n",
       "    <tr>\n",
       "      <th>1</th>\n",
       "      <td>Data Engineer</td>\n",
       "      <td>Full-Time</td>\n",
       "      <td>Senior</td>\n",
       "      <td>Expert</td>\n",
       "      <td>165000</td>\n",
       "      <td>United States Dollar</td>\n",
       "      <td>United States</td>\n",
       "      <td>165000</td>\n",
       "      <td>United States</td>\n",
       "      <td>Medium</td>\n",
       "      <td>2023</td>\n",
       "    </tr>\n",
       "    <tr>\n",
       "      <th>2</th>\n",
       "      <td>Data Engineer</td>\n",
       "      <td>Full-Time</td>\n",
       "      <td>Senior</td>\n",
       "      <td>Expert</td>\n",
       "      <td>185900</td>\n",
       "      <td>United States Dollar</td>\n",
       "      <td>United States</td>\n",
       "      <td>185900</td>\n",
       "      <td>United States</td>\n",
       "      <td>Medium</td>\n",
       "      <td>2023</td>\n",
       "    </tr>\n",
       "    <tr>\n",
       "      <th>3</th>\n",
       "      <td>Data Engineer</td>\n",
       "      <td>Full-Time</td>\n",
       "      <td>Senior</td>\n",
       "      <td>Expert</td>\n",
       "      <td>129300</td>\n",
       "      <td>United States Dollar</td>\n",
       "      <td>United States</td>\n",
       "      <td>129300</td>\n",
       "      <td>United States</td>\n",
       "      <td>Medium</td>\n",
       "      <td>2023</td>\n",
       "    </tr>\n",
       "    <tr>\n",
       "      <th>4</th>\n",
       "      <td>Data Scientist</td>\n",
       "      <td>Full-Time</td>\n",
       "      <td>Senior</td>\n",
       "      <td>Expert</td>\n",
       "      <td>140000</td>\n",
       "      <td>United States Dollar</td>\n",
       "      <td>United States</td>\n",
       "      <td>140000</td>\n",
       "      <td>United States</td>\n",
       "      <td>Medium</td>\n",
       "      <td>2023</td>\n",
       "    </tr>\n",
       "  </tbody>\n",
       "</table>\n",
       "</div>"
      ],
      "text/plain": [
       "        Job Title Employment Type Experience Level Expertise Level  Salary  \\\n",
       "0   Data Engineer       Full-Time           Senior          Expert  210000   \n",
       "1   Data Engineer       Full-Time           Senior          Expert  165000   \n",
       "2   Data Engineer       Full-Time           Senior          Expert  185900   \n",
       "3   Data Engineer       Full-Time           Senior          Expert  129300   \n",
       "4  Data Scientist       Full-Time           Senior          Expert  140000   \n",
       "\n",
       "        Salary Currency Company Location  Salary in USD Employee Residence  \\\n",
       "0  United States Dollar    United States         210000      United States   \n",
       "1  United States Dollar    United States         165000      United States   \n",
       "2  United States Dollar    United States         185900      United States   \n",
       "3  United States Dollar    United States         129300      United States   \n",
       "4  United States Dollar    United States         140000      United States   \n",
       "\n",
       "  Company Size  Year  \n",
       "0       Medium  2023  \n",
       "1       Medium  2023  \n",
       "2       Medium  2023  \n",
       "3       Medium  2023  \n",
       "4       Medium  2023  "
      ]
     },
     "execution_count": 3,
     "metadata": {},
     "output_type": "execute_result"
    }
   ],
   "source": [
    "raw_data.head()"
   ]
  },
  {
   "cell_type": "markdown",
   "id": "9fbb8c93",
   "metadata": {},
   "source": [
    "# Data cleaning and preprocessing"
   ]
  },
  {
   "cell_type": "code",
   "execution_count": 4,
   "id": "bf2f16e3",
   "metadata": {},
   "outputs": [
    {
     "data": {
      "text/plain": [
       "Job Title             0\n",
       "Employment Type       0\n",
       "Experience Level      0\n",
       "Expertise Level       0\n",
       "Salary                0\n",
       "Salary Currency       0\n",
       "Company Location      0\n",
       "Salary in USD         0\n",
       "Employee Residence    0\n",
       "Company Size          0\n",
       "Year                  0\n",
       "dtype: int64"
      ]
     },
     "execution_count": 4,
     "metadata": {},
     "output_type": "execute_result"
    }
   ],
   "source": [
    "# Check for null values\n",
    "raw_data.isna().sum()"
   ]
  },
  {
   "cell_type": "code",
   "execution_count": 5,
   "id": "dada75ca",
   "metadata": {},
   "outputs": [
    {
     "data": {
      "text/plain": [
       "Job Title             object\n",
       "Employment Type       object\n",
       "Experience Level      object\n",
       "Expertise Level       object\n",
       "Salary                 int64\n",
       "Salary Currency       object\n",
       "Company Location      object\n",
       "Salary in USD          int64\n",
       "Employee Residence    object\n",
       "Company Size          object\n",
       "Year                   int64\n",
       "dtype: object"
      ]
     },
     "execution_count": 5,
     "metadata": {},
     "output_type": "execute_result"
    }
   ],
   "source": [
    "# Check column datatypes\n",
    "raw_data.dtypes"
   ]
  },
  {
   "cell_type": "code",
   "execution_count": 6,
   "id": "46a04db4",
   "metadata": {},
   "outputs": [
    {
     "data": {
      "text/plain": [
       "Data Engineer                      702\n",
       "Data Scientist                     635\n",
       "Data Analyst                       459\n",
       "Machine Learning Engineer          300\n",
       "Analytics Engineer                 132\n",
       "                                  ... \n",
       "Deep Learning Researcher             1\n",
       "Analytics Engineering Manager        1\n",
       "AWS Data Architect                   1\n",
       "BI Data Engineer                     1\n",
       "Staff Machine Learning Engineer      1\n",
       "Name: Job Title, Length: 111, dtype: int64"
      ]
     },
     "execution_count": 6,
     "metadata": {},
     "output_type": "execute_result"
    }
   ],
   "source": [
    "raw_data['Job Title'].value_counts()"
   ]
  },
  {
   "cell_type": "code",
   "execution_count": 7,
   "id": "49bfb09f",
   "metadata": {},
   "outputs": [],
   "source": [
    "# Replace 'ML Engineer' with 'Machine Learning Engineer' as they are the same position\n",
    "raw_data['Job Title'] = raw_data['Job Title'].replace('ML Engineer', 'Machine Learning Engineer')"
   ]
  },
  {
   "cell_type": "markdown",
   "id": "16c605c9",
   "metadata": {},
   "source": [
    "# ============================================================="
   ]
  },
  {
   "cell_type": "markdown",
   "id": "1b066343",
   "metadata": {},
   "source": [
    "# (Q1) What are the most popular jobs in Data Science from 2020 to 2023?"
   ]
  },
  {
   "cell_type": "code",
   "execution_count": 8,
   "id": "a8d2c104",
   "metadata": {},
   "outputs": [
    {
     "data": {
      "text/plain": [
       "Data Scientist               21\n",
       "Data Engineer                13\n",
       "Data Analyst                  6\n",
       "Machine Learning Engineer     5\n",
       "Business Data Analyst         3\n",
       "Big Data Engineer             3\n",
       "Lead Data Engineer            2\n",
       "Research Scientist            2\n",
       "Lead Data Scientist           2\n",
       "Staff Data Scientist          1\n",
       "Name: Job Title, dtype: int64"
      ]
     },
     "execution_count": 8,
     "metadata": {},
     "output_type": "execute_result"
    }
   ],
   "source": [
    "df_2020 = raw_data[raw_data['Year'] == 2020]\n",
    "df_2020['Job Title'].value_counts().head(10)"
   ]
  },
  {
   "cell_type": "code",
   "execution_count": 9,
   "id": "f3501231",
   "metadata": {},
   "outputs": [
    {
     "data": {
      "text/plain": [
       "Data Scientist               39\n",
       "Data Engineer                35\n",
       "Machine Learning Engineer    22\n",
       "Data Analyst                 20\n",
       "Research Scientist           10\n",
       "Data Science Manager          6\n",
       "Principal Data Scientist      5\n",
       "Data Science Consultant       5\n",
       "Director of Data Science      5\n",
       "BI Data Analyst               4\n",
       "Name: Job Title, dtype: int64"
      ]
     },
     "execution_count": 9,
     "metadata": {},
     "output_type": "execute_result"
    }
   ],
   "source": [
    "df_2021 = raw_data[raw_data['Year'] == 2021]\n",
    "df_2021['Job Title'].value_counts().head(10)"
   ]
  },
  {
   "cell_type": "code",
   "execution_count": 10,
   "id": "fb0eb3bd",
   "metadata": {},
   "outputs": [
    {
     "data": {
      "text/plain": [
       "Data Engineer                 241\n",
       "Data Scientist                222\n",
       "Data Analyst                  151\n",
       "Machine Learning Engineer      91\n",
       "Analytics Engineer             47\n",
       "Data Science Manager           30\n",
       "Data Architect                 30\n",
       "Research Scientist             15\n",
       "Machine Learning Scientist     13\n",
       "Applied Scientist              11\n",
       "Name: Job Title, dtype: int64"
      ]
     },
     "execution_count": 10,
     "metadata": {},
     "output_type": "execute_result"
    }
   ],
   "source": [
    "df_2022 = raw_data[raw_data['Year'] == 2022]\n",
    "df_2022['Job Title'].value_counts().head(10)"
   ]
  },
  {
   "cell_type": "code",
   "execution_count": 11,
   "id": "39b1e0a0",
   "metadata": {},
   "outputs": [
    {
     "data": {
      "text/plain": [
       "Data Engineer                413\n",
       "Data Scientist               353\n",
       "Data Analyst                 282\n",
       "Machine Learning Engineer    241\n",
       "Analytics Engineer            85\n",
       "Research Scientist            77\n",
       "Data Architect                51\n",
       "Research Engineer             50\n",
       "Applied Scientist             38\n",
       "Data Manager                  30\n",
       "Name: Job Title, dtype: int64"
      ]
     },
     "execution_count": 11,
     "metadata": {},
     "output_type": "execute_result"
    }
   ],
   "source": [
    "df_2023 = raw_data[raw_data['Year'] == 2023]\n",
    "df_2023['Job Title'].value_counts().head(10)"
   ]
  },
  {
   "cell_type": "code",
   "execution_count": 12,
   "id": "28814b71",
   "metadata": {},
   "outputs": [
    {
     "data": {
      "image/png": "[encoded data removed]",
      "text/plain": [
       "<Figure size 1500x1000 with 4 Axes>"
      ]
     },
     "metadata": {},
     "output_type": "display_data"
    }
   ],
   "source": [
    "# Create a figure with subplots\n",
    "fig, axs = plt.subplots(2, 2, figsize=(15, 10))\n",
    "\n",
    "# Plot top 10 jobs 2020\n",
    "axs[0, 0].bar(df_2020['Job Title'].value_counts().head(10).index, df_2020['Job Title'].value_counts().head(10))\n",
    "axs[0, 0].set_title('Top 10 Job Titles in 2020')\n",
    "axs[0, 0].set_xlabel('Job Title')\n",
    "axs[0, 0].set_ylabel('Count')\n",
    "axs[0, 0].tick_params(axis='x', rotation=90)\n",
    "\n",
    "# Plot top 10 jobs 2021\n",
    "axs[0, 1].bar(df_2021['Job Title'].value_counts().head(10).index, df_2021['Job Title'].value_counts().head(10))\n",
    "axs[0, 1].set_title('Top 10 Job Titles in 2021')\n",
    "axs[0, 1].set_xlabel('Job Title')\n",
    "axs[0, 1].set_ylabel('Count')\n",
    "axs[0, 1].tick_params(axis='x', rotation=90)\n",
    "\n",
    "# Plot top 10 jobs 2022\n",
    "axs[1, 0].bar(df_2022['Job Title'].value_counts().head(10).index, df_2022['Job Title'].value_counts().head(10))\n",
    "axs[1, 0].set_title('Top 10 Job Titles in 2022')\n",
    "axs[1, 0].set_xlabel('Job Title')\n",
    "axs[1, 0].set_ylabel('Count')\n",
    "axs[1, 0].tick_params(axis='x', rotation=90)\n",
    "\n",
    "# Plot top 10 jobs 2023\n",
    "axs[1, 1].bar(df_2023['Job Title'].value_counts().head(10).index, df_2023['Job Title'].value_counts().head(10))\n",
    "axs[1, 1].set_title('Top 10 Job Titles in 2023')\n",
    "axs[1, 1].set_xlabel('Job Title')\n",
    "axs[1, 1].set_ylabel('Count')\n",
    "axs[1, 1].tick_params(axis='x', rotation=90)\n",
    "\n",
    "plt.tight_layout()\n",
    "plt.show()"
   ]
  },
  {
   "cell_type": "markdown",
   "id": "5d8731ed",
   "metadata": {},
   "source": [
    "### Looking at the later years represented in this dataset, it seems that the more popular positions include Data Engineer, Data Scientist, Data Analyst, Machine Learning Engineer and Analytics Engineer. It's worth noting that the popularity of specific positions may vary based on industry trends, technological advancements, and regional factors."
   ]
  },
  {
   "cell_type": "markdown",
   "id": "b988ebf4",
   "metadata": {},
   "source": [
    "# ============================================================="
   ]
  },
  {
   "cell_type": "markdown",
   "id": "3a942fe1",
   "metadata": {},
   "source": [
    "# (Q2) How much growth was there for the current most popular 5 jobs in the industry over the last 4 years?"
   ]
  },
  {
   "cell_type": "code",
   "execution_count": 13,
   "id": "c3d76a36",
   "metadata": {
    "scrolled": true
   },
   "outputs": [
    {
     "data": {
      "text/plain": [
       "Data Engineer                413\n",
       "Data Scientist               353\n",
       "Data Analyst                 282\n",
       "Machine Learning Engineer    241\n",
       "Analytics Engineer            85\n",
       "Name: Job Title, dtype: int64"
      ]
     },
     "execution_count": 13,
     "metadata": {},
     "output_type": "execute_result"
    }
   ],
   "source": [
    "df_2023['Job Title'].value_counts().head(5)"
   ]
  },
  {
   "cell_type": "code",
   "execution_count": 14,
   "id": "430e6671",
   "metadata": {},
   "outputs": [],
   "source": [
    "top_5_job_titles = df_2023['Job Title'].value_counts().head(5).index.tolist()"
   ]
  },
  {
   "cell_type": "code",
   "execution_count": 15,
   "id": "c8dd4406",
   "metadata": {},
   "outputs": [
    {
     "data": {
      "text/plain": [
       "['Data Engineer',\n",
       " 'Data Scientist',\n",
       " 'Data Analyst',\n",
       " 'Machine Learning Engineer',\n",
       " 'Analytics Engineer']"
      ]
     },
     "execution_count": 15,
     "metadata": {},
     "output_type": "execute_result"
    }
   ],
   "source": [
    "top_5_job_titles"
   ]
  },
  {
   "cell_type": "code",
   "execution_count": 16,
   "id": "d477db9c",
   "metadata": {},
   "outputs": [],
   "source": [
    "job_counts = pd.DataFrame(top_5_job_titles)"
   ]
  },
  {
   "cell_type": "code",
   "execution_count": 17,
   "id": "2f2edc5f",
   "metadata": {},
   "outputs": [],
   "source": [
    "job_counts = job_counts.rename(columns = {0: 'Job Title'})"
   ]
  },
  {
   "cell_type": "code",
   "execution_count": 18,
   "id": "d91b8f80",
   "metadata": {},
   "outputs": [],
   "source": [
    "for i in range(2020, 2024):\n",
    "    job_counts[str(i)] = 0"
   ]
  },
  {
   "cell_type": "code",
   "execution_count": 19,
   "id": "fac7ba91",
   "metadata": {},
   "outputs": [
    {
     "data": {
      "text/html": [
       "<div>\n",
       "<style scoped>\n",
       "    .dataframe tbody tr th:only-of-type {\n",
       "        vertical-align: middle;\n",
       "    }\n",
       "\n",
       "    .dataframe tbody tr th {\n",
       "        vertical-align: top;\n",
       "    }\n",
       "\n",
       "    .dataframe thead th {\n",
       "        text-align: right;\n",
       "    }\n",
       "</style>\n",
       "<table border=\"1\" class=\"dataframe\">\n",
       "  <thead>\n",
       "    <tr style=\"text-align: right;\">\n",
       "      <th></th>\n",
       "      <th>Job Title</th>\n",
       "      <th>2020</th>\n",
       "      <th>2021</th>\n",
       "      <th>2022</th>\n",
       "      <th>2023</th>\n",
       "    </tr>\n",
       "  </thead>\n",
       "  <tbody>\n",
       "    <tr>\n",
       "      <th>0</th>\n",
       "      <td>Data Engineer</td>\n",
       "      <td>0</td>\n",
       "      <td>0</td>\n",
       "      <td>0</td>\n",
       "      <td>0</td>\n",
       "    </tr>\n",
       "    <tr>\n",
       "      <th>1</th>\n",
       "      <td>Data Scientist</td>\n",
       "      <td>0</td>\n",
       "      <td>0</td>\n",
       "      <td>0</td>\n",
       "      <td>0</td>\n",
       "    </tr>\n",
       "    <tr>\n",
       "      <th>2</th>\n",
       "      <td>Data Analyst</td>\n",
       "      <td>0</td>\n",
       "      <td>0</td>\n",
       "      <td>0</td>\n",
       "      <td>0</td>\n",
       "    </tr>\n",
       "    <tr>\n",
       "      <th>3</th>\n",
       "      <td>Machine Learning Engineer</td>\n",
       "      <td>0</td>\n",
       "      <td>0</td>\n",
       "      <td>0</td>\n",
       "      <td>0</td>\n",
       "    </tr>\n",
       "    <tr>\n",
       "      <th>4</th>\n",
       "      <td>Analytics Engineer</td>\n",
       "      <td>0</td>\n",
       "      <td>0</td>\n",
       "      <td>0</td>\n",
       "      <td>0</td>\n",
       "    </tr>\n",
       "  </tbody>\n",
       "</table>\n",
       "</div>"
      ],
      "text/plain": [
       "                   Job Title  2020  2021  2022  2023\n",
       "0              Data Engineer     0     0     0     0\n",
       "1             Data Scientist     0     0     0     0\n",
       "2               Data Analyst     0     0     0     0\n",
       "3  Machine Learning Engineer     0     0     0     0\n",
       "4         Analytics Engineer     0     0     0     0"
      ]
     },
     "execution_count": 19,
     "metadata": {},
     "output_type": "execute_result"
    }
   ],
   "source": [
    "job_counts"
   ]
  },
  {
   "cell_type": "code",
   "execution_count": 20,
   "id": "71b8b321",
   "metadata": {},
   "outputs": [],
   "source": [
    "# Fill the job_counts df with the counts for each job from the yearly df's\n",
    "\n",
    "for i in range(2020, 2024):\n",
    "    df_i = globals()[f\"df_{i}\"]  # Get the DataFrame for the current year\n",
    "    for k, v in df_i['Job Title'].value_counts().items():\n",
    "        if k in job_counts['Job Title'].tolist():\n",
    "            job_counts.loc[job_counts['Job Title'] == k, str(i)] = v"
   ]
  },
  {
   "cell_type": "code",
   "execution_count": 21,
   "id": "455a890a",
   "metadata": {},
   "outputs": [
    {
     "data": {
      "text/html": [
       "<div>\n",
       "<style scoped>\n",
       "    .dataframe tbody tr th:only-of-type {\n",
       "        vertical-align: middle;\n",
       "    }\n",
       "\n",
       "    .dataframe tbody tr th {\n",
       "        vertical-align: top;\n",
       "    }\n",
       "\n",
       "    .dataframe thead th {\n",
       "        text-align: right;\n",
       "    }\n",
       "</style>\n",
       "<table border=\"1\" class=\"dataframe\">\n",
       "  <thead>\n",
       "    <tr style=\"text-align: right;\">\n",
       "      <th></th>\n",
       "      <th>Job Title</th>\n",
       "      <th>2020</th>\n",
       "      <th>2021</th>\n",
       "      <th>2022</th>\n",
       "      <th>2023</th>\n",
       "    </tr>\n",
       "  </thead>\n",
       "  <tbody>\n",
       "    <tr>\n",
       "      <th>0</th>\n",
       "      <td>Data Engineer</td>\n",
       "      <td>13</td>\n",
       "      <td>35</td>\n",
       "      <td>241</td>\n",
       "      <td>413</td>\n",
       "    </tr>\n",
       "    <tr>\n",
       "      <th>1</th>\n",
       "      <td>Data Scientist</td>\n",
       "      <td>21</td>\n",
       "      <td>39</td>\n",
       "      <td>222</td>\n",
       "      <td>353</td>\n",
       "    </tr>\n",
       "    <tr>\n",
       "      <th>2</th>\n",
       "      <td>Data Analyst</td>\n",
       "      <td>6</td>\n",
       "      <td>20</td>\n",
       "      <td>151</td>\n",
       "      <td>282</td>\n",
       "    </tr>\n",
       "    <tr>\n",
       "      <th>3</th>\n",
       "      <td>Machine Learning Engineer</td>\n",
       "      <td>5</td>\n",
       "      <td>22</td>\n",
       "      <td>91</td>\n",
       "      <td>241</td>\n",
       "    </tr>\n",
       "    <tr>\n",
       "      <th>4</th>\n",
       "      <td>Analytics Engineer</td>\n",
       "      <td>0</td>\n",
       "      <td>0</td>\n",
       "      <td>47</td>\n",
       "      <td>85</td>\n",
       "    </tr>\n",
       "  </tbody>\n",
       "</table>\n",
       "</div>"
      ],
      "text/plain": [
       "                   Job Title  2020  2021  2022  2023\n",
       "0              Data Engineer    13    35   241   413\n",
       "1             Data Scientist    21    39   222   353\n",
       "2               Data Analyst     6    20   151   282\n",
       "3  Machine Learning Engineer     5    22    91   241\n",
       "4         Analytics Engineer     0     0    47    85"
      ]
     },
     "execution_count": 21,
     "metadata": {},
     "output_type": "execute_result"
    }
   ],
   "source": [
    "job_counts"
   ]
  },
  {
   "cell_type": "code",
   "execution_count": 22,
   "id": "c8d3b2f1",
   "metadata": {},
   "outputs": [
    {
     "data": {
      "image/png": "[encoded data removed]",
      "text/plain": [
       "<Figure size 1000x600 with 1 Axes>"
      ]
     },
     "metadata": {},
     "output_type": "display_data"
    }
   ],
   "source": [
    "# Set the Job Title column as the index\n",
    "job_counts.set_index('Job Title', inplace=True)\n",
    "\n",
    "# Transpose the DataFrame to have years as rows and job titles as columns\n",
    "job_counts_T = job_counts.T\n",
    "\n",
    "# Plot a bar chart\n",
    "job_counts_T.plot(kind='bar', stacked=True, figsize=(10, 6))\n",
    "plt.title('Job Titles Over the Years')\n",
    "plt.xlabel('Year')\n",
    "plt.ylabel('Count')\n",
    "plt.legend(title='Job Title', bbox_to_anchor=(1, 1))\n",
    "plt.show()"
   ]
  },
  {
   "cell_type": "markdown",
   "id": "952aa2b7",
   "metadata": {},
   "source": [
    "### The growth has been exponential so it is hard to quantify logically with a limited dataset spanning only 4 years. What can be said without doubt is that there has been rapid growth over the last 4 years."
   ]
  },
  {
   "cell_type": "markdown",
   "id": "79de76e2",
   "metadata": {},
   "source": [
    "# ============================================================="
   ]
  },
  {
   "cell_type": "markdown",
   "id": "42d024cd",
   "metadata": {},
   "source": [
    "# (Q3) Which country has the highest earning potential for a person working in this industry in 2023?"
   ]
  },
  {
   "cell_type": "code",
   "execution_count": 23,
   "id": "3fa13e59",
   "metadata": {},
   "outputs": [
    {
     "data": {
      "text/plain": [
       "United States     1609\n",
       "United Kingdom     161\n",
       "Canada              55\n",
       "Germany             23\n",
       "Spain               22\n",
       "Name: Company Location, dtype: int64"
      ]
     },
     "execution_count": 23,
     "metadata": {},
     "output_type": "execute_result"
    }
   ],
   "source": [
    "# Select only top 5 countries in terms of sample size\n",
    "df_2023['Company Location'].value_counts().head()"
   ]
  },
  {
   "cell_type": "code",
   "execution_count": 24,
   "id": "54294ba6",
   "metadata": {},
   "outputs": [
    {
     "data": {
      "text/plain": [
       "['United States', 'United Kingdom', 'Canada', 'Germany', 'Spain']"
      ]
     },
     "execution_count": 24,
     "metadata": {},
     "output_type": "execute_result"
    }
   ],
   "source": [
    "top_5_sample_size = df_2023['Company Location'].value_counts().head().index.tolist()\n",
    "top_5_sample_size"
   ]
  },
  {
   "cell_type": "code",
   "execution_count": 25,
   "id": "4677fa33",
   "metadata": {},
   "outputs": [],
   "source": [
    "mask = df_2023['Company Location'].isin(top_5_sample_size)\n",
    "top_5_sample_size_df = df_2023[mask]"
   ]
  },
  {
   "cell_type": "code",
   "execution_count": 26,
   "id": "9e855fd6",
   "metadata": {},
   "outputs": [
    {
     "data": {
      "text/html": [
       "<div>\n",
       "<style scoped>\n",
       "    .dataframe tbody tr th:only-of-type {\n",
       "        vertical-align: middle;\n",
       "    }\n",
       "\n",
       "    .dataframe tbody tr th {\n",
       "        vertical-align: top;\n",
       "    }\n",
       "\n",
       "    .dataframe thead th {\n",
       "        text-align: right;\n",
       "    }\n",
       "</style>\n",
       "<table border=\"1\" class=\"dataframe\">\n",
       "  <thead>\n",
       "    <tr style=\"text-align: right;\">\n",
       "      <th></th>\n",
       "      <th>Salary in USD</th>\n",
       "    </tr>\n",
       "    <tr>\n",
       "      <th>Company Location</th>\n",
       "      <th></th>\n",
       "    </tr>\n",
       "  </thead>\n",
       "  <tbody>\n",
       "    <tr>\n",
       "      <th>United States</th>\n",
       "      <td>164529.713487</td>\n",
       "    </tr>\n",
       "    <tr>\n",
       "      <th>Canada</th>\n",
       "      <td>146754.200000</td>\n",
       "    </tr>\n",
       "    <tr>\n",
       "      <th>Germany</th>\n",
       "      <td>125244.652174</td>\n",
       "    </tr>\n",
       "    <tr>\n",
       "      <th>United Kingdom</th>\n",
       "      <td>121457.645963</td>\n",
       "    </tr>\n",
       "    <tr>\n",
       "      <th>Spain</th>\n",
       "      <td>72599.409091</td>\n",
       "    </tr>\n",
       "  </tbody>\n",
       "</table>\n",
       "</div>"
      ],
      "text/plain": [
       "                  Salary in USD\n",
       "Company Location               \n",
       "United States     164529.713487\n",
       "Canada            146754.200000\n",
       "Germany           125244.652174\n",
       "United Kingdom    121457.645963\n",
       "Spain              72599.409091"
      ]
     },
     "execution_count": 26,
     "metadata": {},
     "output_type": "execute_result"
    }
   ],
   "source": [
    "columns_to_sum = ['Salary in USD']\n",
    "average_by_country = (top_5_sample_size_df.groupby('Company Location')[columns_to_sum].mean()\n",
    "                      .sort_values(by = columns_to_sum, ascending = False))\n",
    "\n",
    "average_by_country"
   ]
  },
  {
   "cell_type": "code",
   "execution_count": 27,
   "id": "65608925",
   "metadata": {},
   "outputs": [
    {
     "data": {
      "image/png": "[encoded data removed]",
      "text/plain": [
       "<Figure size 640x480 with 1 Axes>"
      ]
     },
     "metadata": {},
     "output_type": "display_data"
    }
   ],
   "source": [
    "average_by_country.plot(kind='bar')\n",
    "plt.xlabel('Country')\n",
    "plt.ylabel('Average Annual Salary in USD')\n",
    "plt.title('Average Annual Salary by Country')\n",
    "plt.xticks(rotation=45)\n",
    "plt.show()"
   ]
  },
  {
   "cell_type": "markdown",
   "id": "901ff54e",
   "metadata": {},
   "source": [
    "### As expected, the USA and Canada pay the most for technical positions of this nature. \n",
    "### Tech jobs in the US and Canada are paid relatively high due to factors such as a strong tech industry, high cost of living, economic prosperity, skill shortages, and quality education and research institutions. These contribute to increased demand, competition for talent, and the need for competitive salaries."
   ]
  },
  {
   "cell_type": "markdown",
   "id": "18d8ecba",
   "metadata": {},
   "source": [
    "# ============================================================="
   ]
  },
  {
   "cell_type": "markdown",
   "id": "17f43028",
   "metadata": {},
   "source": [
    "# (Q4) What are the earnings of full-time employees in the US, at each experience level, for the top 5 jobs in 2023?"
   ]
  },
  {
   "cell_type": "code",
   "execution_count": 28,
   "id": "8f2cd388",
   "metadata": {},
   "outputs": [
    {
     "data": {
      "text/plain": [
       "array(['Senior', 'Executive', 'Mid', 'Entry'], dtype=object)"
      ]
     },
     "execution_count": 28,
     "metadata": {},
     "output_type": "execute_result"
    }
   ],
   "source": [
    "df_2023_usa = df_2023[df_2023[\"Company Location\"] == \"United States\"]\n",
    "df_2023_usa['Experience Level'].unique()"
   ]
  },
  {
   "cell_type": "markdown",
   "id": "93063b5f",
   "metadata": {},
   "source": [
    "## Data Engineer"
   ]
  },
  {
   "cell_type": "code",
   "execution_count": 29,
   "id": "34d7f006",
   "metadata": {
    "scrolled": true
   },
   "outputs": [
    {
     "name": "stdout",
     "output_type": "stream",
     "text": [
      "Entry salary: USD 91119.38 per year\n",
      "Mid salary: USD 137340.21 per year\n",
      "Senior salary: USD 168786.66 per year\n",
      "Executive salary: USD 188536.21 per year\n"
     ]
    }
   ],
   "source": [
    "exp_levels = ['Entry', 'Mid', 'Senior', 'Executive'] # Re-order experience levels from lowest to highest\n",
    "mean_salaries_engineer = [] # For use in plotting a graph\n",
    "\n",
    "for level in exp_levels:\n",
    "    columns_to_sum = ['Salary in USD']\n",
    "\n",
    "    mask = (\n",
    "        (df_2023_usa['Job Title'] == 'Data Engineer') & \n",
    "        (df_2023_usa['Experience Level'] == level) & \n",
    "        (df_2023_usa['Employment Type'] == 'Full-Time')\n",
    "    )\n",
    "\n",
    "    mean_salary = df_2023_usa[mask][columns_to_sum].mean()\n",
    "    print(f\"{level} salary: USD {round(mean_salary.values[0], 2)} per year\")\n",
    "    \n",
    "    mean_salaries_engineer.append(round(mean_salary.values[0], 2))"
   ]
  },
  {
   "cell_type": "markdown",
   "id": "4c5435f8",
   "metadata": {},
   "source": [
    "## Data Scientist"
   ]
  },
  {
   "cell_type": "code",
   "execution_count": 30,
   "id": "95188970",
   "metadata": {},
   "outputs": [
    {
     "name": "stdout",
     "output_type": "stream",
     "text": [
      "Entry salary: USD 100121.0 per year\n",
      "Mid salary: USD 130602.89 per year\n",
      "Senior salary: USD 180893.51 per year\n",
      "Executive salary: USD 201239.29 per year\n"
     ]
    }
   ],
   "source": [
    "exp_levels = ['Entry', 'Mid', 'Senior', 'Executive'] # Re-order experience levels from lowest to highest\n",
    "mean_salaries_scientist = [] # For use in plotting a graph\n",
    "\n",
    "for level in exp_levels:\n",
    "    columns_to_sum = ['Salary in USD']\n",
    "\n",
    "    mask = (\n",
    "        (df_2023_usa['Job Title'] == 'Data Scientist') & \n",
    "        (df_2023_usa['Experience Level'] == level) & \n",
    "        (df_2023_usa['Employment Type'] == 'Full-Time')\n",
    "    )\n",
    "\n",
    "    mean_salary = df_2023_usa[mask][columns_to_sum].mean()\n",
    "    print(f\"{level} salary: USD {round(mean_salary.values[0], 2)} per year\")\n",
    "    \n",
    "    mean_salaries_scientist.append(round(mean_salary.values[0], 2))"
   ]
  },
  {
   "cell_type": "markdown",
   "id": "7c54c445",
   "metadata": {},
   "source": [
    "## Data Analyst"
   ]
  },
  {
   "cell_type": "code",
   "execution_count": 31,
   "id": "b7eec363",
   "metadata": {},
   "outputs": [
    {
     "name": "stdout",
     "output_type": "stream",
     "text": [
      "Entry salary: USD 76406.92 per year\n",
      "Mid salary: USD 113571.59 per year\n",
      "Senior salary: USD 131526.7 per year\n",
      "Executive salary: USD 107500.0 per year\n"
     ]
    }
   ],
   "source": [
    "exp_levels = ['Entry', 'Mid', 'Senior', 'Executive'] # Re-order experience levels from lowest to highest\n",
    "mean_salaries_analyst = [] # For use in plotting a graph\n",
    "\n",
    "for level in exp_levels:\n",
    "    columns_to_sum = ['Salary in USD']\n",
    "\n",
    "    mask = (\n",
    "        (df_2023_usa['Job Title'] == 'Data Analyst') & \n",
    "        (df_2023_usa['Experience Level'] == level) & \n",
    "        (df_2023_usa['Employment Type'] == 'Full-Time')\n",
    "    )\n",
    "\n",
    "    mean_salary = df_2023_usa[mask][columns_to_sum].mean()\n",
    "    print(f\"{level} salary: USD {round(mean_salary.values[0], 2)} per year\")\n",
    "    \n",
    "    mean_salaries_analyst.append(round(mean_salary.values[0], 2))"
   ]
  },
  {
   "cell_type": "markdown",
   "id": "935d9751",
   "metadata": {},
   "source": [
    "## Machine Learning Engineer"
   ]
  },
  {
   "cell_type": "code",
   "execution_count": 32,
   "id": "e2204e6c",
   "metadata": {},
   "outputs": [
    {
     "name": "stdout",
     "output_type": "stream",
     "text": [
      "Entry salary: USD 154540.5 per year\n",
      "Mid salary: USD 165843.61 per year\n",
      "Senior salary: USD 205870.4 per year\n",
      "Executive salary: USD nan per year\n"
     ]
    }
   ],
   "source": [
    "exp_levels = ['Entry', 'Mid', 'Senior', 'Executive'] # Re-order experience levels from lowest to highest\n",
    "mean_salaries_mle = [] # For use in plotting a graph\n",
    "\n",
    "for level in exp_levels:\n",
    "    columns_to_sum = ['Salary in USD']\n",
    "\n",
    "    mask = (\n",
    "        (df_2023_usa['Job Title'] == 'Machine Learning Engineer') & \n",
    "        (df_2023_usa['Experience Level'] == level) & \n",
    "        (df_2023_usa['Employment Type'] == 'Full-Time')\n",
    "    )\n",
    "\n",
    "    mean_salary = df_2023_usa[mask][columns_to_sum].mean()\n",
    "    print(f\"{level} salary: USD {round(mean_salary.values[0], 2)} per year\")\n",
    "    \n",
    "    mean_salaries_mle.append(round(mean_salary.values[0], 2))"
   ]
  },
  {
   "cell_type": "markdown",
   "id": "9f57e82b",
   "metadata": {},
   "source": [
    "## Analytics Engineer"
   ]
  },
  {
   "cell_type": "code",
   "execution_count": 33,
   "id": "a66cf2cf",
   "metadata": {},
   "outputs": [
    {
     "name": "stdout",
     "output_type": "stream",
     "text": [
      "Entry salary: USD 87000.0 per year\n",
      "Mid salary: USD 153446.67 per year\n",
      "Senior salary: USD 165977.33 per year\n",
      "Executive salary: USD 187000.0 per year\n"
     ]
    }
   ],
   "source": [
    "exp_levels = ['Entry', 'Mid', 'Senior', 'Executive'] # Re-order experience levels from lowest to highest\n",
    "mean_salaries_ae = [] # For use in plotting a graph\n",
    "\n",
    "for level in exp_levels:\n",
    "    columns_to_sum = ['Salary in USD']\n",
    "\n",
    "    mask = (\n",
    "        (df_2023_usa['Job Title'] == 'Analytics Engineer') & \n",
    "        (df_2023_usa['Experience Level'] == level) & \n",
    "        (df_2023_usa['Employment Type'] == 'Full-Time')\n",
    "    )\n",
    "\n",
    "    mean_salary = df_2023_usa[mask][columns_to_sum].mean()\n",
    "    print(f\"{level} salary: USD {round(mean_salary.values[0], 2)} per year\")\n",
    "    \n",
    "    mean_salaries_ae.append(round(mean_salary.values[0], 2))"
   ]
  },
  {
   "cell_type": "markdown",
   "id": "32f8613c",
   "metadata": {},
   "source": [
    "### Graph"
   ]
  },
  {
   "cell_type": "code",
   "execution_count": 34,
   "id": "a10355d5",
   "metadata": {},
   "outputs": [
    {
     "data": {
      "image/png": "[encoded data removed]",
      "text/plain": [
       "<Figure size 1500x500 with 5 Axes>"
      ]
     },
     "metadata": {},
     "output_type": "display_data"
    }
   ],
   "source": [
    "# Create subplots based on the number of plots needed\n",
    "num_subplots = 5  # Number of subplots\n",
    "\n",
    "fig, axs = plt.subplots(1, num_subplots, sharey=True, figsize=(15, 5))\n",
    "\n",
    "# Unpack the axes\n",
    "ax1, ax2, ax3, ax4, ax5 = axs\n",
    "\n",
    "# Plot Data Engineer\n",
    "ax1.bar(exp_levels, mean_salaries_engineer, color='blue')\n",
    "ax1.set_title('Data Engineers USA, 2023, FT')\n",
    "ax1.set_xlabel('Experience Level')\n",
    "ax1.set_ylabel('Mean Salary (USD)')\n",
    "\n",
    "# Plot Data Scientist\n",
    "ax2.bar(exp_levels, mean_salaries_scientist, color='green')\n",
    "ax2.set_title('Data Scientists USA, 2023, FT')\n",
    "ax2.set_xlabel('Experience Level')\n",
    "\n",
    "# Plot Data Analyst\n",
    "ax3.bar(exp_levels, mean_salaries_analyst, color='red')  # Assuming a color for Data Analyst\n",
    "ax3.set_title('Data Analysts USA, 2023, FT')\n",
    "ax3.set_xlabel('Experience Level')\n",
    "\n",
    "# Plot Machine Learning Engineer\n",
    "ax4.bar(exp_levels, mean_salaries_mle, color='orange')  # Assuming a color for ML Engineer\n",
    "ax4.set_title('ML Engineers USA, 2023, FT')\n",
    "ax4.set_xlabel('Experience Level')\n",
    "\n",
    "# Plot Analytics Engineer\n",
    "ax5.bar(exp_levels, mean_salaries_ae, color='purple')  # Assuming a color for Analytics Engineer\n",
    "ax5.set_title('Analytics Engineers USA, 2023, FT')\n",
    "ax5.set_xlabel('Experience Level')\n",
    "\n",
    "plt.tight_layout()  # Adjust subplot parameters for better layout\n",
    "plt.show()"
   ]
  },
  {
   "cell_type": "code",
   "execution_count": 35,
   "id": "105a135a",
   "metadata": {},
   "outputs": [
    {
     "data": {
      "text/html": [
       "<div>\n",
       "<style scoped>\n",
       "    .dataframe tbody tr th:only-of-type {\n",
       "        vertical-align: middle;\n",
       "    }\n",
       "\n",
       "    .dataframe tbody tr th {\n",
       "        vertical-align: top;\n",
       "    }\n",
       "\n",
       "    .dataframe thead th {\n",
       "        text-align: right;\n",
       "    }\n",
       "</style>\n",
       "<table border=\"1\" class=\"dataframe\">\n",
       "  <thead>\n",
       "    <tr style=\"text-align: right;\">\n",
       "      <th></th>\n",
       "      <th>Data Engineer</th>\n",
       "      <th>Data Scientist</th>\n",
       "      <th>Data Analyst</th>\n",
       "      <th>ML Engineer</th>\n",
       "      <th>Analytics Engineer</th>\n",
       "    </tr>\n",
       "    <tr>\n",
       "      <th>Experience Level</th>\n",
       "      <th></th>\n",
       "      <th></th>\n",
       "      <th></th>\n",
       "      <th></th>\n",
       "      <th></th>\n",
       "    </tr>\n",
       "  </thead>\n",
       "  <tbody>\n",
       "    <tr>\n",
       "      <th>Entry</th>\n",
       "      <td>91119.38</td>\n",
       "      <td>100121.00</td>\n",
       "      <td>76406.92</td>\n",
       "      <td>154540.50</td>\n",
       "      <td>87000.00</td>\n",
       "    </tr>\n",
       "    <tr>\n",
       "      <th>Mid</th>\n",
       "      <td>137340.21</td>\n",
       "      <td>130602.89</td>\n",
       "      <td>113571.59</td>\n",
       "      <td>165843.61</td>\n",
       "      <td>153446.67</td>\n",
       "    </tr>\n",
       "    <tr>\n",
       "      <th>Senior</th>\n",
       "      <td>168786.66</td>\n",
       "      <td>180893.51</td>\n",
       "      <td>131526.70</td>\n",
       "      <td>205870.40</td>\n",
       "      <td>165977.33</td>\n",
       "    </tr>\n",
       "    <tr>\n",
       "      <th>Executive</th>\n",
       "      <td>188536.21</td>\n",
       "      <td>201239.29</td>\n",
       "      <td>107500.00</td>\n",
       "      <td>NaN</td>\n",
       "      <td>187000.00</td>\n",
       "    </tr>\n",
       "  </tbody>\n",
       "</table>\n",
       "</div>"
      ],
      "text/plain": [
       "                  Data Engineer  Data Scientist  Data Analyst  ML Engineer  \\\n",
       "Experience Level                                                             \n",
       "Entry                  91119.38       100121.00      76406.92    154540.50   \n",
       "Mid                   137340.21       130602.89     113571.59    165843.61   \n",
       "Senior                168786.66       180893.51     131526.70    205870.40   \n",
       "Executive             188536.21       201239.29     107500.00          NaN   \n",
       "\n",
       "                  Analytics Engineer  \n",
       "Experience Level                      \n",
       "Entry                       87000.00  \n",
       "Mid                        153446.67  \n",
       "Senior                     165977.33  \n",
       "Executive                  187000.00  "
      ]
     },
     "execution_count": 35,
     "metadata": {},
     "output_type": "execute_result"
    }
   ],
   "source": [
    "# Create df from lists generated\n",
    "df_combined = pd.DataFrame({\n",
    "    'Experience Level': exp_levels,\n",
    "    'Data Engineer': mean_salaries_engineer,\n",
    "    'Data Scientist': mean_salaries_scientist,\n",
    "    'Data Analyst': mean_salaries_analyst,\n",
    "    'ML Engineer': mean_salaries_mle,\n",
    "    'Analytics Engineer': mean_salaries_ae\n",
    "})\n",
    "\n",
    "df_combined.set_index('Experience Level', inplace=True)\n",
    "df_combined"
   ]
  },
  {
   "cell_type": "markdown",
   "id": "4e6eb0da",
   "metadata": {},
   "source": [
    "### We can observe that Data Engineer and Data Scientist are the two most popular positions in the industry, and their salary structures are quite similar. Data Analyst seems to be a less popular and lower-paying position, perhaps serving as an entry-level role for Data Scientists and Data Engineers. Meanwhile, Analytics Engineer, being potentially a newer and less common job, shows varying salaries across experience levels, indicating its evolving nature within the industry.\n",
    "### Additionally, Machine Learning Engineer, known for its more specialized and experienced role, exhibits higher salaries across all experience levels, highlighting the expertise and demand for advanced machine learning skills in the industry."
   ]
  },
  {
   "cell_type": "markdown",
   "id": "fd84961b",
   "metadata": {},
   "source": [
    "# ============================================================="
   ]
  },
  {
   "cell_type": "markdown",
   "id": "143cccfb",
   "metadata": {},
   "source": [
    "# (Q5) Based on 2023 data for the top 5 positions, what is the extent of outsourcing these positions for US-based companies?"
   ]
  },
  {
   "cell_type": "code",
   "execution_count": 36,
   "id": "475cebca",
   "metadata": {
    "scrolled": true
   },
   "outputs": [
    {
     "data": {
      "text/html": [
       "<div>\n",
       "<style scoped>\n",
       "    .dataframe tbody tr th:only-of-type {\n",
       "        vertical-align: middle;\n",
       "    }\n",
       "\n",
       "    .dataframe tbody tr th {\n",
       "        vertical-align: top;\n",
       "    }\n",
       "\n",
       "    .dataframe thead th {\n",
       "        text-align: right;\n",
       "    }\n",
       "</style>\n",
       "<table border=\"1\" class=\"dataframe\">\n",
       "  <thead>\n",
       "    <tr style=\"text-align: right;\">\n",
       "      <th></th>\n",
       "      <th>Job Title</th>\n",
       "      <th>Employment Type</th>\n",
       "      <th>Experience Level</th>\n",
       "      <th>Expertise Level</th>\n",
       "      <th>Salary</th>\n",
       "      <th>Salary Currency</th>\n",
       "      <th>Company Location</th>\n",
       "      <th>Salary in USD</th>\n",
       "      <th>Employee Residence</th>\n",
       "      <th>Company Size</th>\n",
       "      <th>Year</th>\n",
       "    </tr>\n",
       "  </thead>\n",
       "  <tbody>\n",
       "    <tr>\n",
       "      <th>0</th>\n",
       "      <td>Data Engineer</td>\n",
       "      <td>Full-Time</td>\n",
       "      <td>Senior</td>\n",
       "      <td>Expert</td>\n",
       "      <td>210000</td>\n",
       "      <td>United States Dollar</td>\n",
       "      <td>United States</td>\n",
       "      <td>210000</td>\n",
       "      <td>United States</td>\n",
       "      <td>Medium</td>\n",
       "      <td>2023</td>\n",
       "    </tr>\n",
       "    <tr>\n",
       "      <th>1</th>\n",
       "      <td>Data Engineer</td>\n",
       "      <td>Full-Time</td>\n",
       "      <td>Senior</td>\n",
       "      <td>Expert</td>\n",
       "      <td>165000</td>\n",
       "      <td>United States Dollar</td>\n",
       "      <td>United States</td>\n",
       "      <td>165000</td>\n",
       "      <td>United States</td>\n",
       "      <td>Medium</td>\n",
       "      <td>2023</td>\n",
       "    </tr>\n",
       "    <tr>\n",
       "      <th>2</th>\n",
       "      <td>Data Engineer</td>\n",
       "      <td>Full-Time</td>\n",
       "      <td>Senior</td>\n",
       "      <td>Expert</td>\n",
       "      <td>185900</td>\n",
       "      <td>United States Dollar</td>\n",
       "      <td>United States</td>\n",
       "      <td>185900</td>\n",
       "      <td>United States</td>\n",
       "      <td>Medium</td>\n",
       "      <td>2023</td>\n",
       "    </tr>\n",
       "    <tr>\n",
       "      <th>3</th>\n",
       "      <td>Data Engineer</td>\n",
       "      <td>Full-Time</td>\n",
       "      <td>Senior</td>\n",
       "      <td>Expert</td>\n",
       "      <td>129300</td>\n",
       "      <td>United States Dollar</td>\n",
       "      <td>United States</td>\n",
       "      <td>129300</td>\n",
       "      <td>United States</td>\n",
       "      <td>Medium</td>\n",
       "      <td>2023</td>\n",
       "    </tr>\n",
       "    <tr>\n",
       "      <th>4</th>\n",
       "      <td>Data Scientist</td>\n",
       "      <td>Full-Time</td>\n",
       "      <td>Senior</td>\n",
       "      <td>Expert</td>\n",
       "      <td>140000</td>\n",
       "      <td>United States Dollar</td>\n",
       "      <td>United States</td>\n",
       "      <td>140000</td>\n",
       "      <td>United States</td>\n",
       "      <td>Medium</td>\n",
       "      <td>2023</td>\n",
       "    </tr>\n",
       "  </tbody>\n",
       "</table>\n",
       "</div>"
      ],
      "text/plain": [
       "        Job Title Employment Type Experience Level Expertise Level  Salary  \\\n",
       "0   Data Engineer       Full-Time           Senior          Expert  210000   \n",
       "1   Data Engineer       Full-Time           Senior          Expert  165000   \n",
       "2   Data Engineer       Full-Time           Senior          Expert  185900   \n",
       "3   Data Engineer       Full-Time           Senior          Expert  129300   \n",
       "4  Data Scientist       Full-Time           Senior          Expert  140000   \n",
       "\n",
       "        Salary Currency Company Location  Salary in USD Employee Residence  \\\n",
       "0  United States Dollar    United States         210000      United States   \n",
       "1  United States Dollar    United States         165000      United States   \n",
       "2  United States Dollar    United States         185900      United States   \n",
       "3  United States Dollar    United States         129300      United States   \n",
       "4  United States Dollar    United States         140000      United States   \n",
       "\n",
       "  Company Size  Year  \n",
       "0       Medium  2023  \n",
       "1       Medium  2023  \n",
       "2       Medium  2023  \n",
       "3       Medium  2023  \n",
       "4       Medium  2023  "
      ]
     },
     "execution_count": 36,
     "metadata": {},
     "output_type": "execute_result"
    }
   ],
   "source": [
    "raw_data.head()"
   ]
  },
  {
   "cell_type": "code",
   "execution_count": 37,
   "id": "a684acc6",
   "metadata": {},
   "outputs": [],
   "source": [
    "# Create the boolean mask to create new df for companies in US, in 2023, where the top 5 positions are full time.\n",
    "mask = (\n",
    "    (raw_data['Year'] == 2023) &\n",
    "    (raw_data['Employment Type'] == 'Full-Time') &\n",
    "    (raw_data['Company Location'] == 'United States') &\n",
    "    (\n",
    "        (raw_data['Job Title'] == 'Data Engineer') |\n",
    "        (raw_data['Job Title'] == 'Data Scientist') |\n",
    "        (raw_data['Job Title'] == 'Data Analyst') |\n",
    "        (raw_data['Job Title'] == 'Machine Learning Engineer') |\n",
    "        (raw_data['Job Title'] == 'Analytics Engineer')       \n",
    "    )\n",
    ")\n",
    "\n",
    "df_2023_usa_top_5_ft = raw_data[mask]"
   ]
  },
  {
   "cell_type": "code",
   "execution_count": 38,
   "id": "0ec7a08b",
   "metadata": {},
   "outputs": [
    {
     "data": {
      "text/plain": [
       "(1120, 11)"
      ]
     },
     "execution_count": 38,
     "metadata": {},
     "output_type": "execute_result"
    }
   ],
   "source": [
    "df_2023_usa_top_5_ft.shape"
   ]
  },
  {
   "cell_type": "code",
   "execution_count": 39,
   "id": "0da442a5",
   "metadata": {},
   "outputs": [
    {
     "data": {
      "text/plain": [
       "1114"
      ]
     },
     "execution_count": 39,
     "metadata": {},
     "output_type": "execute_result"
    }
   ],
   "source": [
    "(df_2023_usa_top_5_ft['Employee Residence'] == 'United States').sum()"
   ]
  },
  {
   "cell_type": "code",
   "execution_count": 40,
   "id": "f409c1c3",
   "metadata": {},
   "outputs": [
    {
     "data": {
      "text/plain": [
       "6"
      ]
     },
     "execution_count": 40,
     "metadata": {},
     "output_type": "execute_result"
    }
   ],
   "source": [
    "(df_2023_usa_top_5_ft['Employee Residence'] != 'United States').sum()"
   ]
  },
  {
   "cell_type": "code",
   "execution_count": 41,
   "id": "95d3c909",
   "metadata": {},
   "outputs": [
    {
     "data": {
      "image/png": "[encoded data removed]",
      "text/plain": [
       "<Figure size 640x480 with 1 Axes>"
      ]
     },
     "metadata": {},
     "output_type": "display_data"
    }
   ],
   "source": [
    "# Plot the pie-chart\n",
    "labels = ['In United States', 'Not in United States']\n",
    "counts = [(df_2023_usa_top_5_ft['Employee Residence'] == 'United States').sum(),\n",
    "          (df_2023_usa_top_5_ft['Employee Residence'] != 'United States').sum()]\n",
    "\n",
    "plt.pie(counts, labels=labels, autopct='%1.1f%%')\n",
    "plt.title('Employee Residence for US Companies')\n",
    "plt.show()"
   ]
  },
  {
   "cell_type": "markdown",
   "id": "ac7e3faf",
   "metadata": {},
   "source": [
    "### Among the top 5 positions in Data Science for companies located in the USA, only 6 out of 1087 individuals were non-residents of the USA. However, it's important to note that this dataset is relatively small, and the collection method of the data could significantly influence this observation."
   ]
  },
  {
   "cell_type": "markdown",
   "id": "db6508e6",
   "metadata": {},
   "source": [
    "### These are the 6 specific positions:"
   ]
  },
  {
   "cell_type": "code",
   "execution_count": 42,
   "id": "9a118a56",
   "metadata": {},
   "outputs": [
    {
     "data": {
      "text/html": [
       "<div>\n",
       "<style scoped>\n",
       "    .dataframe tbody tr th:only-of-type {\n",
       "        vertical-align: middle;\n",
       "    }\n",
       "\n",
       "    .dataframe tbody tr th {\n",
       "        vertical-align: top;\n",
       "    }\n",
       "\n",
       "    .dataframe thead th {\n",
       "        text-align: right;\n",
       "    }\n",
       "</style>\n",
       "<table border=\"1\" class=\"dataframe\">\n",
       "  <thead>\n",
       "    <tr style=\"text-align: right;\">\n",
       "      <th></th>\n",
       "      <th>Job Title</th>\n",
       "      <th>Employment Type</th>\n",
       "      <th>Experience Level</th>\n",
       "      <th>Expertise Level</th>\n",
       "      <th>Salary</th>\n",
       "      <th>Salary Currency</th>\n",
       "      <th>Company Location</th>\n",
       "      <th>Salary in USD</th>\n",
       "      <th>Employee Residence</th>\n",
       "      <th>Company Size</th>\n",
       "      <th>Year</th>\n",
       "    </tr>\n",
       "  </thead>\n",
       "  <tbody>\n",
       "    <tr>\n",
       "      <th>1091</th>\n",
       "      <td>Data Scientist</td>\n",
       "      <td>Full-Time</td>\n",
       "      <td>Entry</td>\n",
       "      <td>Junior</td>\n",
       "      <td>40000</td>\n",
       "      <td>United States Dollar</td>\n",
       "      <td>United States</td>\n",
       "      <td>40000</td>\n",
       "      <td>Uzbekistan</td>\n",
       "      <td>Medium</td>\n",
       "      <td>2023</td>\n",
       "    </tr>\n",
       "    <tr>\n",
       "      <th>1288</th>\n",
       "      <td>Machine Learning Engineer</td>\n",
       "      <td>Full-Time</td>\n",
       "      <td>Senior</td>\n",
       "      <td>Expert</td>\n",
       "      <td>150000</td>\n",
       "      <td>United States Dollar</td>\n",
       "      <td>United States</td>\n",
       "      <td>150000</td>\n",
       "      <td>Portugal</td>\n",
       "      <td>Medium</td>\n",
       "      <td>2023</td>\n",
       "    </tr>\n",
       "    <tr>\n",
       "      <th>1657</th>\n",
       "      <td>Data Analyst</td>\n",
       "      <td>Full-Time</td>\n",
       "      <td>Entry</td>\n",
       "      <td>Junior</td>\n",
       "      <td>100000</td>\n",
       "      <td>United States Dollar</td>\n",
       "      <td>United States</td>\n",
       "      <td>100000</td>\n",
       "      <td>Uzbekistan</td>\n",
       "      <td>Large</td>\n",
       "      <td>2023</td>\n",
       "    </tr>\n",
       "    <tr>\n",
       "      <th>1802</th>\n",
       "      <td>Data Analyst</td>\n",
       "      <td>Full-Time</td>\n",
       "      <td>Entry</td>\n",
       "      <td>Junior</td>\n",
       "      <td>50000</td>\n",
       "      <td>United States Dollar</td>\n",
       "      <td>United States</td>\n",
       "      <td>50000</td>\n",
       "      <td>Kuwait</td>\n",
       "      <td>Large</td>\n",
       "      <td>2023</td>\n",
       "    </tr>\n",
       "    <tr>\n",
       "      <th>1897</th>\n",
       "      <td>Data Analyst</td>\n",
       "      <td>Full-Time</td>\n",
       "      <td>Entry</td>\n",
       "      <td>Junior</td>\n",
       "      <td>30000</td>\n",
       "      <td>United States Dollar</td>\n",
       "      <td>United States</td>\n",
       "      <td>30000</td>\n",
       "      <td>Argentina</td>\n",
       "      <td>Small</td>\n",
       "      <td>2023</td>\n",
       "    </tr>\n",
       "    <tr>\n",
       "      <th>1948</th>\n",
       "      <td>Data Scientist</td>\n",
       "      <td>Full-Time</td>\n",
       "      <td>Entry</td>\n",
       "      <td>Junior</td>\n",
       "      <td>50000</td>\n",
       "      <td>United States Dollar</td>\n",
       "      <td>United States</td>\n",
       "      <td>50000</td>\n",
       "      <td>India</td>\n",
       "      <td>Medium</td>\n",
       "      <td>2023</td>\n",
       "    </tr>\n",
       "  </tbody>\n",
       "</table>\n",
       "</div>"
      ],
      "text/plain": [
       "                      Job Title Employment Type Experience Level  \\\n",
       "1091             Data Scientist       Full-Time            Entry   \n",
       "1288  Machine Learning Engineer       Full-Time           Senior   \n",
       "1657               Data Analyst       Full-Time            Entry   \n",
       "1802               Data Analyst       Full-Time            Entry   \n",
       "1897               Data Analyst       Full-Time            Entry   \n",
       "1948             Data Scientist       Full-Time            Entry   \n",
       "\n",
       "     Expertise Level  Salary       Salary Currency Company Location  \\\n",
       "1091          Junior   40000  United States Dollar    United States   \n",
       "1288          Expert  150000  United States Dollar    United States   \n",
       "1657          Junior  100000  United States Dollar    United States   \n",
       "1802          Junior   50000  United States Dollar    United States   \n",
       "1897          Junior   30000  United States Dollar    United States   \n",
       "1948          Junior   50000  United States Dollar    United States   \n",
       "\n",
       "      Salary in USD Employee Residence Company Size  Year  \n",
       "1091          40000         Uzbekistan       Medium  2023  \n",
       "1288         150000           Portugal       Medium  2023  \n",
       "1657         100000         Uzbekistan        Large  2023  \n",
       "1802          50000             Kuwait        Large  2023  \n",
       "1897          30000          Argentina        Small  2023  \n",
       "1948          50000              India       Medium  2023  "
      ]
     },
     "execution_count": 42,
     "metadata": {},
     "output_type": "execute_result"
    }
   ],
   "source": [
    "df_2023_usa_top_5_ft[df_2023_usa_top_5_ft['Employee Residence'] != 'United States']"
   ]
  },
  {
   "cell_type": "markdown",
   "id": "a207ccce",
   "metadata": {},
   "source": [
    "# ============================================================="
   ]
  },
  {
   "cell_type": "markdown",
   "id": "eed66502",
   "metadata": {},
   "source": [
    "# (Q6) Based on 2023 data for the top 5 positions, what is the extent of outsourcing these positions for all companies herein?"
   ]
  },
  {
   "cell_type": "code",
   "execution_count": 43,
   "id": "3fb7215f",
   "metadata": {},
   "outputs": [],
   "source": [
    "# Create the boolean mask to create new df for all companies, in 2023, where the top 5 positions are full time.\n",
    "mask = (\n",
    "    (raw_data['Year'] == 2023) &\n",
    "    (raw_data['Employment Type'] == 'Full-Time') &\n",
    "    (\n",
    "        (raw_data['Job Title'] == 'Data Engineer') |\n",
    "        (raw_data['Job Title'] == 'Data Scientist') |\n",
    "        (raw_data['Job Title'] == 'Data Analyst') |\n",
    "        (raw_data['Job Title'] == 'Machine Learning Engineer') |\n",
    "        (raw_data['Job Title'] == 'Analytics Engineer')       \n",
    "    )\n",
    ")\n",
    "\n",
    "df_2023_all_top_5_ft = raw_data[mask]"
   ]
  },
  {
   "cell_type": "code",
   "execution_count": 44,
   "id": "85f458cc",
   "metadata": {},
   "outputs": [
    {
     "data": {
      "text/plain": [
       "1369"
      ]
     },
     "execution_count": 44,
     "metadata": {},
     "output_type": "execute_result"
    }
   ],
   "source": [
    "len(df_2023_all_top_5_ft)"
   ]
  },
  {
   "cell_type": "code",
   "execution_count": 45,
   "id": "f0b5010a",
   "metadata": {},
   "outputs": [
    {
     "data": {
      "text/plain": [
       "10"
      ]
     },
     "execution_count": 45,
     "metadata": {},
     "output_type": "execute_result"
    }
   ],
   "source": [
    "(df_2023_all_top_5_ft['Company Location'] != df_2023_all_top_5_ft['Employee Residence']).sum()"
   ]
  },
  {
   "cell_type": "code",
   "execution_count": 46,
   "id": "e708e660",
   "metadata": {},
   "outputs": [
    {
     "data": {
      "image/png": "[encoded data removed]",
      "text/plain": [
       "<Figure size 640x480 with 1 Axes>"
      ]
     },
     "metadata": {},
     "output_type": "display_data"
    }
   ],
   "source": [
    "# Plot the pie-chart\n",
    "labels = ['In Same Country as Company', 'In Different Country as Company']\n",
    "counts = [len(df_2023_all_top_5_ft),\n",
    "          (df_2023_all_top_5_ft['Company Location'] != df_2023_all_top_5_ft['Employee Residence']).sum()]\n",
    "\n",
    "plt.pie(counts, labels=labels, autopct='%1.1f%%')\n",
    "plt.title('Employee Residence for All Companies')\n",
    "plt.show()"
   ]
  },
  {
   "cell_type": "markdown",
   "id": "5073239c",
   "metadata": {},
   "source": [
    "### In the dataset, it is observed that out of 1369 individuals holding the top 5 positions in Data Science across various companies, only 10 were residents in countries different from their company's location. However, it's important to note that this dataset is relatively small, and the collection method of the data could significantly influence this observation."
   ]
  },
  {
   "cell_type": "markdown",
   "id": "9a982f8a",
   "metadata": {},
   "source": [
    "### These are the 10 positions:"
   ]
  },
  {
   "cell_type": "code",
   "execution_count": 47,
   "id": "49c62ac2",
   "metadata": {},
   "outputs": [
    {
     "data": {
      "text/html": [
       "<div>\n",
       "<style scoped>\n",
       "    .dataframe tbody tr th:only-of-type {\n",
       "        vertical-align: middle;\n",
       "    }\n",
       "\n",
       "    .dataframe tbody tr th {\n",
       "        vertical-align: top;\n",
       "    }\n",
       "\n",
       "    .dataframe thead th {\n",
       "        text-align: right;\n",
       "    }\n",
       "</style>\n",
       "<table border=\"1\" class=\"dataframe\">\n",
       "  <thead>\n",
       "    <tr style=\"text-align: right;\">\n",
       "      <th></th>\n",
       "      <th>Job Title</th>\n",
       "      <th>Employment Type</th>\n",
       "      <th>Experience Level</th>\n",
       "      <th>Expertise Level</th>\n",
       "      <th>Salary</th>\n",
       "      <th>Salary Currency</th>\n",
       "      <th>Company Location</th>\n",
       "      <th>Salary in USD</th>\n",
       "      <th>Employee Residence</th>\n",
       "      <th>Company Size</th>\n",
       "      <th>Year</th>\n",
       "    </tr>\n",
       "  </thead>\n",
       "  <tbody>\n",
       "    <tr>\n",
       "      <th>13</th>\n",
       "      <td>Data Engineer</td>\n",
       "      <td>Full-Time</td>\n",
       "      <td>Senior</td>\n",
       "      <td>Expert</td>\n",
       "      <td>80000</td>\n",
       "      <td>Euro</td>\n",
       "      <td>Sweden</td>\n",
       "      <td>86374</td>\n",
       "      <td>Germany</td>\n",
       "      <td>Large</td>\n",
       "      <td>2023</td>\n",
       "    </tr>\n",
       "    <tr>\n",
       "      <th>587</th>\n",
       "      <td>Data Engineer</td>\n",
       "      <td>Full-Time</td>\n",
       "      <td>Mid</td>\n",
       "      <td>Intermediate</td>\n",
       "      <td>27000</td>\n",
       "      <td>United States Dollar</td>\n",
       "      <td>Portugal</td>\n",
       "      <td>27000</td>\n",
       "      <td>Peru</td>\n",
       "      <td>Small</td>\n",
       "      <td>2023</td>\n",
       "    </tr>\n",
       "    <tr>\n",
       "      <th>1091</th>\n",
       "      <td>Data Scientist</td>\n",
       "      <td>Full-Time</td>\n",
       "      <td>Entry</td>\n",
       "      <td>Junior</td>\n",
       "      <td>40000</td>\n",
       "      <td>United States Dollar</td>\n",
       "      <td>United States</td>\n",
       "      <td>40000</td>\n",
       "      <td>Uzbekistan</td>\n",
       "      <td>Medium</td>\n",
       "      <td>2023</td>\n",
       "    </tr>\n",
       "    <tr>\n",
       "      <th>1288</th>\n",
       "      <td>Machine Learning Engineer</td>\n",
       "      <td>Full-Time</td>\n",
       "      <td>Senior</td>\n",
       "      <td>Expert</td>\n",
       "      <td>150000</td>\n",
       "      <td>United States Dollar</td>\n",
       "      <td>United States</td>\n",
       "      <td>150000</td>\n",
       "      <td>Portugal</td>\n",
       "      <td>Medium</td>\n",
       "      <td>2023</td>\n",
       "    </tr>\n",
       "    <tr>\n",
       "      <th>1533</th>\n",
       "      <td>Data Scientist</td>\n",
       "      <td>Full-Time</td>\n",
       "      <td>Mid</td>\n",
       "      <td>Intermediate</td>\n",
       "      <td>56000</td>\n",
       "      <td>Euro</td>\n",
       "      <td>Germany</td>\n",
       "      <td>60462</td>\n",
       "      <td>Austria</td>\n",
       "      <td>Medium</td>\n",
       "      <td>2023</td>\n",
       "    </tr>\n",
       "    <tr>\n",
       "      <th>1657</th>\n",
       "      <td>Data Analyst</td>\n",
       "      <td>Full-Time</td>\n",
       "      <td>Entry</td>\n",
       "      <td>Junior</td>\n",
       "      <td>100000</td>\n",
       "      <td>United States Dollar</td>\n",
       "      <td>United States</td>\n",
       "      <td>100000</td>\n",
       "      <td>Uzbekistan</td>\n",
       "      <td>Large</td>\n",
       "      <td>2023</td>\n",
       "    </tr>\n",
       "    <tr>\n",
       "      <th>1802</th>\n",
       "      <td>Data Analyst</td>\n",
       "      <td>Full-Time</td>\n",
       "      <td>Entry</td>\n",
       "      <td>Junior</td>\n",
       "      <td>50000</td>\n",
       "      <td>United States Dollar</td>\n",
       "      <td>United States</td>\n",
       "      <td>50000</td>\n",
       "      <td>Kuwait</td>\n",
       "      <td>Large</td>\n",
       "      <td>2023</td>\n",
       "    </tr>\n",
       "    <tr>\n",
       "      <th>1888</th>\n",
       "      <td>Data Scientist</td>\n",
       "      <td>Full-Time</td>\n",
       "      <td>Senior</td>\n",
       "      <td>Expert</td>\n",
       "      <td>59000</td>\n",
       "      <td>Euro</td>\n",
       "      <td>Estonia</td>\n",
       "      <td>63701</td>\n",
       "      <td>Cyprus</td>\n",
       "      <td>Large</td>\n",
       "      <td>2023</td>\n",
       "    </tr>\n",
       "    <tr>\n",
       "      <th>1897</th>\n",
       "      <td>Data Analyst</td>\n",
       "      <td>Full-Time</td>\n",
       "      <td>Entry</td>\n",
       "      <td>Junior</td>\n",
       "      <td>30000</td>\n",
       "      <td>United States Dollar</td>\n",
       "      <td>United States</td>\n",
       "      <td>30000</td>\n",
       "      <td>Argentina</td>\n",
       "      <td>Small</td>\n",
       "      <td>2023</td>\n",
       "    </tr>\n",
       "    <tr>\n",
       "      <th>1948</th>\n",
       "      <td>Data Scientist</td>\n",
       "      <td>Full-Time</td>\n",
       "      <td>Entry</td>\n",
       "      <td>Junior</td>\n",
       "      <td>50000</td>\n",
       "      <td>United States Dollar</td>\n",
       "      <td>United States</td>\n",
       "      <td>50000</td>\n",
       "      <td>India</td>\n",
       "      <td>Medium</td>\n",
       "      <td>2023</td>\n",
       "    </tr>\n",
       "  </tbody>\n",
       "</table>\n",
       "</div>"
      ],
      "text/plain": [
       "                      Job Title Employment Type Experience Level  \\\n",
       "13                Data Engineer       Full-Time           Senior   \n",
       "587               Data Engineer       Full-Time              Mid   \n",
       "1091             Data Scientist       Full-Time            Entry   \n",
       "1288  Machine Learning Engineer       Full-Time           Senior   \n",
       "1533             Data Scientist       Full-Time              Mid   \n",
       "1657               Data Analyst       Full-Time            Entry   \n",
       "1802               Data Analyst       Full-Time            Entry   \n",
       "1888             Data Scientist       Full-Time           Senior   \n",
       "1897               Data Analyst       Full-Time            Entry   \n",
       "1948             Data Scientist       Full-Time            Entry   \n",
       "\n",
       "     Expertise Level  Salary       Salary Currency Company Location  \\\n",
       "13            Expert   80000                  Euro           Sweden   \n",
       "587     Intermediate   27000  United States Dollar         Portugal   \n",
       "1091          Junior   40000  United States Dollar    United States   \n",
       "1288          Expert  150000  United States Dollar    United States   \n",
       "1533    Intermediate   56000                  Euro          Germany   \n",
       "1657          Junior  100000  United States Dollar    United States   \n",
       "1802          Junior   50000  United States Dollar    United States   \n",
       "1888          Expert   59000                  Euro          Estonia   \n",
       "1897          Junior   30000  United States Dollar    United States   \n",
       "1948          Junior   50000  United States Dollar    United States   \n",
       "\n",
       "      Salary in USD Employee Residence Company Size  Year  \n",
       "13            86374            Germany        Large  2023  \n",
       "587           27000               Peru        Small  2023  \n",
       "1091          40000         Uzbekistan       Medium  2023  \n",
       "1288         150000           Portugal       Medium  2023  \n",
       "1533          60462            Austria       Medium  2023  \n",
       "1657         100000         Uzbekistan        Large  2023  \n",
       "1802          50000             Kuwait        Large  2023  \n",
       "1888          63701             Cyprus        Large  2023  \n",
       "1897          30000          Argentina        Small  2023  \n",
       "1948          50000              India       Medium  2023  "
      ]
     },
     "execution_count": 47,
     "metadata": {},
     "output_type": "execute_result"
    }
   ],
   "source": [
    "df_2023_all_top_5_ft[df_2023_all_top_5_ft['Company Location'] != df_2023_all_top_5_ft['Employee Residence']]"
   ]
  },
  {
   "cell_type": "markdown",
   "id": "832329a9",
   "metadata": {},
   "source": [
    "# ============================================================="
   ]
  }
 ],
 "metadata": {
  "kernelspec": {
   "display_name": "Python 3 (ipykernel)",
   "language": "python",
   "name": "python3"
  },
  "language_info": {
   "codemirror_mode": {
    "name": "ipython",
    "version": 3
   },
   "file_extension": ".py",
   "mimetype": "text/x-python",
   "name": "python",
   "nbconvert_exporter": "python",
   "pygments_lexer": "ipython3",
   "version": "3.10.9"
  }
 },
 "nbformat": 4,
 "nbformat_minor": 5
}
